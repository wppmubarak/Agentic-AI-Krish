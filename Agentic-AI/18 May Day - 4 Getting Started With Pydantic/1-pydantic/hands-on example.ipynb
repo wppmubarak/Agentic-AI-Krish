{
 "cells": [
  {
   "cell_type": "code",
   "execution_count": 3,
   "id": "2dab73ef",
   "metadata": {},
   "outputs": [
    {
     "name": "stdout",
     "output_type": "stream",
     "text": [
      "✅ Valid user with address: name='Alice' age=30 email='alice@example.com' address=Address(street='123 Main St', city='Chennai', zip_code='600001')\n",
      "❌ Validation error:\n",
      " 3 validation errors for User\n",
      "age\n",
      "  Input should be greater than or equal to 18 [type=greater_than_equal, input_value=17, input_type=int]\n",
      "    For further information visit https://errors.pydantic.dev/2.11/v/greater_than_equal\n",
      "email\n",
      "  value is not a valid email address: An email address must have an @-sign. [type=value_error, input_value='bob[at]example', input_type=str]\n",
      "address.zip_code\n",
      "  Input should be a valid string [type=string_type, input_value=123, input_type=int]\n",
      "    For further information visit https://errors.pydantic.dev/2.11/v/string_type\n"
     ]
    }
   ],
   "source": [
    "from pydantic import BaseModel, EmailStr, ValidationError, conint\n",
    "\n",
    "# Define the nested Address model\n",
    "class Address(BaseModel):\n",
    "    street: str\n",
    "    city: str\n",
    "    zip_code: str\n",
    "\n",
    "# Define the main User model\n",
    "class User(BaseModel):\n",
    "    name: str\n",
    "    age: conint(ge=18)\n",
    "    email: EmailStr\n",
    "    address: Address  # Nested model\n",
    "\n",
    "# Valid input\n",
    "try:\n",
    "    user = User(\n",
    "        name=\"Alice\",\n",
    "        age=30,\n",
    "        email=\"alice@example.com\",\n",
    "        address={\n",
    "            \"street\": \"123 Main St\",\n",
    "            \"city\": \"Chennai\",\n",
    "            \"zip_code\": \"600001\"\n",
    "        }\n",
    "    )\n",
    "    print(\"✅ Valid user with address:\", user)\n",
    "except ValidationError as e:\n",
    "    print(\"❌ Validation error:\", e)\n",
    "\n",
    "# Invalid input\n",
    "try:\n",
    "    user = User(\n",
    "        name=\"Bob\",\n",
    "        age=17,\n",
    "        email=\"bob[at]example\",\n",
    "        address={\n",
    "            \"street\": \"456 Side St\",\n",
    "            \"city\": \"Mumbai\",\n",
    "            \"zip_code\": 123  # Invalid: should be a string\n",
    "        }\n",
    "    )\n",
    "except ValidationError as e:\n",
    "    print(\"❌ Validation error:\\n\", e)\n"
   ]
  },
  {
   "cell_type": "code",
   "execution_count": null,
   "id": "feb898bf",
   "metadata": {},
   "outputs": [
    {
     "name": "stdout",
     "output_type": "stream",
     "text": [
      "✅ Valid user: name='Alice' age=25 email='alice@example.com'\n",
      "❌ Validation error:\n",
      " 2 validation errors for User\n",
      "age\n",
      "  Input should be greater than or equal to 18 [type=greater_than_equal, input_value=15, input_type=int]\n",
      "    For further information visit https://errors.pydantic.dev/2.11/v/greater_than_equal\n",
      "email\n",
      "  value is not a valid email address: An email address must have an @-sign. [type=value_error, input_value='not-an-email', input_type=str]\n"
     ]
    }
   ],
   "source": [
    "from pydantic import BaseModel, EmailStr, ValidationError, conint\n",
    "\n",
    "# Define a Pydantic model\n",
    "class User(BaseModel):\n",
    "    name: str\n",
    "    age: conint(ge=18)  # age must be >= 18\n",
    "    email: EmailStr     # must be a valid email\n",
    "\n",
    "# Valid input\n",
    "try:\n",
    "    user = User(name=\"Alice\", age=25, email=\"alice@example.com\")\n",
    "    print(\"✅ Valid user:\", user)\n",
    "except ValidationError as e:\n",
    "    print(\"❌ Validation error:\", e)\n",
    "\n",
    "# Invalid input\n",
    "try:\n",
    "    user = User(name=\"Bob\", age=15, email=\"not-an-email\")\n",
    "except ValidationError as e:\n",
    "    print(\"❌ Validation error:\\n\", e)\n"
   ]
  }
 ],
 "metadata": {
  "kernelspec": {
   "display_name": "agentic_2_base",
   "language": "python",
   "name": "python3"
  },
  "language_info": {
   "codemirror_mode": {
    "name": "ipython",
    "version": 3
   },
   "file_extension": ".py",
   "mimetype": "text/x-python",
   "name": "python",
   "nbconvert_exporter": "python",
   "pygments_lexer": "ipython3",
   "version": "3.13.5"
  }
 },
 "nbformat": 4,
 "nbformat_minor": 5
}
