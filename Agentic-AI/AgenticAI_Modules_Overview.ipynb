{
 "cells": [
  {
   "cell_type": "markdown",
   "id": "5d6b2fdd",
   "metadata": {},
   "source": [
    "## 1. Introduction to Agents\n",
    "- What are Agents?\n",
    "- Agentic AI vs Generative AI\n",
    "- Multi-Agent Systems & Frameworks"
   ]
  },
  {
   "cell_type": "markdown",
   "id": "054f2a5c",
   "metadata": {},
   "source": [
    "## 2. Pydantic – Data Validation\n",
    "- Models and Fields\n",
    "- JSON, Validators, Decorators\n",
    "- Monitoring with Logfire"
   ]
  },
  {
   "cell_type": "markdown",
   "id": "464bfc0e",
   "metadata": {},
   "source": [
    "## 3. LangChain\n",
    "- Components and Modules\n",
    "- Data Ingestion and Preprocessing\n",
    "- Embeddings with FAISS and ChromaDB"
   ]
  },
  {
   "cell_type": "markdown",
   "id": "fd3a115d",
   "metadata": {},
   "source": [
    "## 4. LCEL (LangChain Expression Language)\n",
    "- Groq API Integration\n",
    "- Building Chains\n",
    "- Deployment with LangServe"
   ]
  },
  {
   "cell_type": "markdown",
   "id": "31fd7bb4",
   "metadata": {},
   "source": [
    "## 5. LangGraph Introduction\n",
    "- Simple Graphs and Studio\n",
    "- Chains, Routers, Agents\n",
    "- Memory Handling"
   ]
  },
  {
   "cell_type": "markdown",
   "id": "843476de",
   "metadata": {},
   "source": [
    "## 6. State & Memory in LangGraph\n",
    "- State Schemas\n",
    "- Memory Optimization Techniques"
   ]
  },
  {
   "cell_type": "markdown",
   "id": "06a65608",
   "metadata": {},
   "source": [
    "## 7. UX and Human-in-the-Loop with LangGraph\n",
    "- Streaming and Breakpoints\n",
    "- Human Feedback\n",
    "- Time Travel Debugging"
   ]
  },
  {
   "cell_type": "markdown",
   "id": "70e2eae9",
   "metadata": {},
   "source": [
    "## 8. LangGraph Deployments\n",
    "- Deployment Concepts\n",
    "- API Integration"
   ]
  },
  {
   "cell_type": "markdown",
   "id": "9bf2e4fe",
   "metadata": {},
   "source": [
    "## 9. Agno – Lightweight Framework\n",
    "- Agents, Teams, Tools\n",
    "- Vector DBs and Embeddings\n",
    "- Agent Observability and UI"
   ]
  },
  {
   "cell_type": "markdown",
   "id": "e709877d",
   "metadata": {},
   "source": [
    "## 10. Agentic RAG\n",
    "- Adaptive RAG (Local and Cohere)\n",
    "- Controlled RAG (C-RAG)\n",
    "- Self-Optimizing RAG"
   ]
  },
  {
   "cell_type": "markdown",
   "id": "02c4ff91",
   "metadata": {},
   "source": [
    "## 11. LangSmith\n",
    "- Overview and Key Features\n",
    "- Workflow Pipelines\n",
    "- Data Integration and Preprocessing"
   ]
  },
  {
   "cell_type": "markdown",
   "id": "5bbb6a7b",
   "metadata": {},
   "source": [
    "## 12. Designing Multi-Agent Systems with LangGraph\n",
    "- Building Agent Nodes and Roles\n",
    "- Communication Protocols\n",
    "- Scalability"
   ]
  },
  {
   "cell_type": "markdown",
   "id": "2cd1ca39",
   "metadata": {},
   "source": [
    "## 13. CrewAI – Multi-Agent Platform\n",
    "- Collaboration Framework\n",
    "- Role-playing and Tools\n",
    "- Monitoring with Opik"
   ]
  },
  {
   "cell_type": "markdown",
   "id": "0eb2bf6e",
   "metadata": {},
   "source": [
    "## 14. LangFlow – Low-Code Tool\n",
    "- UI and Workflow Basics\n",
    "- Nodes, Chains, and Prompts"
   ]
  },
  {
   "cell_type": "markdown",
   "id": "f7230f38",
   "metadata": {},
   "source": [
    "## 15. Building Blocks of LangFlow\n",
    "- Pre-built vs Custom Workflows\n",
    "- Prompt Engineering\n",
    "- LangChain Integration"
   ]
  },
  {
   "cell_type": "markdown",
   "id": "b0e32382",
   "metadata": {},
   "source": [
    "## 16. Integrating LangFlow with Third-Party Tools\n",
    "- SQL, CSV, REST APIs\n",
    "- Model and Vector DB Integration\n",
    "- Workflow Automation"
   ]
  },
  {
   "cell_type": "markdown",
   "id": "febf057b",
   "metadata": {},
   "source": [
    "## 17. n8n\n",
    "- Workflow Concepts and Nodes\n",
    "- API/Webhooks\n",
    "- AI Automation and Use Cases"
   ]
  },
  {
   "cell_type": "markdown",
   "id": "ec27b961",
   "metadata": {},
   "source": [
    "## 18. AutoGen\n",
    "- Core Concepts and Setup\n",
    "- Agentic Systems and Feedback Loops\n",
    "- Multi-Agent Collaboration"
   ]
  },
  {
   "cell_type": "markdown",
   "id": "bf3e21e6",
   "metadata": {},
   "source": [
    "## 19. Model Context Protocol (MCP)\n",
    "- Architecture and Implementation\n",
    "- Python SDK\n",
    "- Tools, Resources, Prompts"
   ]
  },
  {
   "cell_type": "markdown",
   "id": "0a4d32f3",
   "metadata": {},
   "source": [
    "## 20. Deploying AI Agents & End-to-End Projects\n",
    "- GitHub Actions, Docker\n",
    "- AWS (S3, EC2, Bedrock)\n",
    "- BentoML and Full Stack Projects"
   ]
  }
 ],
 "metadata": {},
 "nbformat": 4,
 "nbformat_minor": 5
}
